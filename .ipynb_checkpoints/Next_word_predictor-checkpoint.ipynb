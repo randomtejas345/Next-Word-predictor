{
 "cells": [
  {
   "cell_type": "code",
   "execution_count": 128,
   "id": "32bb06c6-b4b7-4b6a-89b7-75c7c5882f86",
   "metadata": {},
   "outputs": [],
   "source": [
    "faqs = \"\"\"About the Program\n",
    "What is the course fee for  Data Science Mentorship Program (DSMP 2023)\n",
    "The course follows a monthly subscription model where you have to make monthly payments of Rs 799/month.\n",
    "What is the total duration of the course?\n",
    "The total duration of the course is 7 months. So the total course fee becomes 799*7 = Rs 5600(approx.)\n",
    "What is the syllabus of the mentorship program?\n",
    "We will be covering the following modules:\n",
    "Python Fundamentals\n",
    "Python libraries for Data Science\n",
    "Data Analysis\n",
    "SQL for Data Science\n",
    "Maths for Machine Learning\n",
    "ML Algorithms\n",
    "Practical ML\n",
    "MLOPs\n",
    "Case studies\n",
    "You can check the detailed syllabus here - https://learnwith.campusx.in/courses/CampusX-Data-Science-Mentorship-Program-637339afe4b0615a1bbed390\n",
    "Will Deep Learning and NLP be a part of this program?\n",
    "No, NLP and Deep Learning both are not a part of this program’s curriculum.\n",
    "What if I miss a live session? Will I get a recording of the session?\n",
    "Yes all our sessions are recorded, so even if you miss a session you can go back and watch the recording.\n",
    "Where can I find the class schedule?\n",
    "Checkout this google sheet to see month by month time table of the course - https://docs.google.com/spreadsheets/d/16OoTax_A6ORAeCg4emgexhqqPv3noQPYKU7RJ6ArOzk/edit?usp=sharing.\n",
    "What is the time duration of all the live sessions?\n",
    "Roughly, all the sessions last 2 hours.\n",
    "What is the language spoken by the instructor during the sessions?\n",
    "Hinglish\n",
    "How will I be informed about the upcoming class?\n",
    "You will get a mail from our side before every paid session once you become a paid user.\n",
    "Can I do this course if I am from a non-tech background?\n",
    "Yes, absolutely.\n",
    "I am late, can I join the program in the middle?\n",
    "Absolutely, you can join the program anytime.\n",
    "If I join/pay in the middle, will I be able to see all the past lectures?\n",
    "Yes, once you make the payment you will be able to see all the past content in your dashboard.\n",
    "Where do I have to submit the task?\n",
    "You don’t have to submit the task. We will provide you with the solutions, you have to self evaluate the task yourself.\n",
    "Will we do case studies in the program?\n",
    "Yes.\n",
    "Where can we contact you?\n",
    "You can mail us at nitish.campusx@gmail.com\n",
    "Payment/Registration related questions\n",
    "Where do we have to make our payments? Your YouTube channel or website?\n",
    "You have to make all your monthly payments on our website. Here is the link for our website - https://learnwith.campusx.in/\n",
    "Can we pay the entire amount of Rs 5600 all at once?\n",
    "Unfortunately no, the program follows a monthly subscription model.\n",
    "What is the validity of monthly subscription? Suppose if I pay on 15th Jan, then do I have to pay again on 1st Feb or 15th Feb\n",
    "15th Feb. The validity period is 30 days from the day you make the payment. So essentially you can join anytime you don’t have to wait for a month to end.\n",
    "What if I don’t like the course after making the payment. What is the refund policy?\n",
    "You get a 7 days refund period from the day you have made the payment.\n",
    "I am living outside India and I am not able to make the payment on the website, what should I do?\n",
    "You have to contact us by sending a mail at nitish.campusx@gmail.com\n",
    "Post registration queries\n",
    "Till when can I view the paid videos on the website?\n",
    "This one is tricky, so read carefully. You can watch the videos till your subscription is valid. Suppose you have purchased subscription on 21st Jan, you will be able to watch all the past paid sessions in the period of 21st Jan to 20th Feb. But after 21st Feb you will have to purchase the subscription again.\n",
    "But once the course is over and you have paid us Rs 5600(or 7 installments of Rs 799) you will be able to watch the paid sessions till Aug 2024.\n",
    "Why lifetime validity is not provided?\n",
    "Because of the low course fee.\n",
    "Where can I reach out in case of a doubt after the session?\n",
    "You will have to fill a google form provided in your dashboard and our team will contact you for a 1 on 1 doubt clearance session\n",
    "If I join the program late, can I still ask past week doubts?\n",
    "Yes, just select past week doubt in the doubt clearance google form.\n",
    "I am living outside India and I am not able to make the payment on the website, what should I do?\n",
    "You have to contact us by sending a mail at nitish.campusx@gmai.com\n",
    "Certificate and Placement Assistance related queries\n",
    "What is the criteria to get the certificate?\n",
    "There are 2 criterias:\n",
    "You have to pay the entire fee of Rs 5600\n",
    "You have to attempt all the course assessments.\n",
    "I am joining late. How can I pay payment of the earlier months?\n",
    "You will get a link to pay fee of earlier months in your dashboard once you pay for the current month.\n",
    "I have read that Placement assistance is a part of this program. What comes under Placement assistance?\n",
    "This is to clarify that Placement assistance does not mean Placement guarantee. So we dont guarantee you any jobs or for that matter even interview calls. So if you are planning to join this course just for placements, I am afraid you will be disappointed. Here is what comes under placement assistance\n",
    "Portfolio Building sessions\n",
    "Soft skill sessions\n",
    "Sessions with industry mentors\n",
    "Discussion on Job hunting strategies\n",
    "\"\"\""
   ]
  },
  {
   "cell_type": "code",
   "execution_count": 129,
   "id": "9ced1ac7-26f4-4996-a2f8-67fc90865e46",
   "metadata": {},
   "outputs": [],
   "source": [
    "import tensorflow as tf\n",
    "from tensorflow.keras.preprocessing.text import Tokenizer"
   ]
  },
  {
   "cell_type": "code",
   "execution_count": 130,
   "id": "a49091e2-4b1a-4f11-88b0-a58278c55f31",
   "metadata": {},
   "outputs": [],
   "source": [
    "tokenizer=Tokenizer()"
   ]
  },
  {
   "cell_type": "code",
   "execution_count": 131,
   "id": "6747a43b-c92a-4961-a0f3-8c5217d40cbd",
   "metadata": {},
   "outputs": [],
   "source": [
    "tokenizer.fit_on_texts([faqs])"
   ]
  },
  {
   "cell_type": "code",
   "execution_count": 132,
   "id": "6957bc73-e331-400e-81e6-42572ffb3247",
   "metadata": {},
   "outputs": [
    {
     "data": {
      "text/plain": [
       "282"
      ]
     },
     "execution_count": 132,
     "metadata": {},
     "output_type": "execute_result"
    }
   ],
   "source": [
    "tokenizer.word_index\n",
    "len(tokenizer.word_index)"
   ]
  },
  {
   "cell_type": "code",
   "execution_count": 133,
   "id": "5fe84102-77f4-4f00-b438-e643213f7589",
   "metadata": {},
   "outputs": [],
   "source": [
    "input_sequences=[]\n",
    "# output_sequences=[]\n",
    "for sentence in faqs.split(\"\\n\"):\n",
    "    # print(sentence)\n",
    "    # print(tokenizer.texts_to_sequences([sentence])[0])\n",
    "    tokenized_sentence=tokenizer.texts_to_sequences([sentence])[0]\n",
    "    for i in range(1,len(tokenized_sentence)):\n",
    "        input_sequences.append(tokenized_sentence[:i+1])\n",
    "        # if(i==len(tokenized_sentence)-1):\n",
    "        #     output_sequences.append(0)\n",
    "        # else:\n",
    "        #     output_sequences.append(tokenized_sentence[i+1])\n",
    "\n",
    "        "
   ]
  },
  {
   "cell_type": "code",
   "execution_count": 134,
   "id": "38ec4de6-52a9-4359-9dcc-0ae508e0336b",
   "metadata": {},
   "outputs": [],
   "source": [
    "# for input,output in zip(input_sequnces,output_sequences):\n",
    "#     print(f\"input:{input}\")\n",
    "#     print(f\"output:{output}\")\n",
    "# input_sequences"
   ]
  },
  {
   "cell_type": "code",
   "execution_count": 135,
   "id": "7988fdea-f9fd-4125-a973-cabeaa4ab8ba",
   "metadata": {},
   "outputs": [
    {
     "data": {
      "text/plain": [
       "57"
      ]
     },
     "execution_count": 135,
     "metadata": {},
     "output_type": "execute_result"
    }
   ],
   "source": [
    "max_len= max([len(x) for x in input_sequences])\n",
    "max_len"
   ]
  },
  {
   "cell_type": "code",
   "execution_count": 136,
   "id": "a32e7b41-8d7e-48be-a515-139091b46e29",
   "metadata": {},
   "outputs": [],
   "source": [
    "from tensorflow.keras.preprocessing.sequence import pad_sequences\n",
    "padded_input_sequences= pad_sequences(input_sequences,maxlen=max_len,padding=\"pre\")"
   ]
  },
  {
   "cell_type": "code",
   "execution_count": 137,
   "id": "9a9892c0-4c67-47f4-a6fb-acc34422d830",
   "metadata": {},
   "outputs": [
    {
     "data": {
      "text/plain": [
       "array([[  0,   0,   0, ...,   0,  93,   1],\n",
       "       [  0,   0,   0, ...,  93,   1,  13],\n",
       "       [  0,   0,   0, ...,   0,  11,   7],\n",
       "       ...,\n",
       "       [  0,   0,   0, ..., 279,  18, 280],\n",
       "       [  0,   0,   0, ...,  18, 280, 281],\n",
       "       [  0,   0,   0, ..., 280, 281, 282]])"
      ]
     },
     "execution_count": 137,
     "metadata": {},
     "output_type": "execute_result"
    }
   ],
   "source": [
    "padded_input_sequences"
   ]
  },
  {
   "cell_type": "code",
   "execution_count": 138,
   "id": "c269d532-cc04-425b-aee8-d80178717378",
   "metadata": {},
   "outputs": [],
   "source": [
    "X=padded_input_sequences[:,:-1]\n",
    "y=padded_input_sequences[:,-1]"
   ]
  },
  {
   "cell_type": "code",
   "execution_count": 139,
   "id": "206884c5-ccfc-4d68-bac2-6e1b83ac0c61",
   "metadata": {},
   "outputs": [
    {
     "data": {
      "text/plain": [
       "(863, 56)"
      ]
     },
     "execution_count": 139,
     "metadata": {},
     "output_type": "execute_result"
    }
   ],
   "source": [
    "X.shape"
   ]
  },
  {
   "cell_type": "code",
   "execution_count": 140,
   "id": "43d49e7c-1140-4837-b68c-d18cef55ed18",
   "metadata": {},
   "outputs": [
    {
     "data": {
      "text/plain": [
       "array([  1,  13,   7,   1,  12,  42,  15,  43,  53,  68,  13, 147, 148,\n",
       "        12,  94,   5,  44,  29,  95,  30,   2,   8,   4,  26,  44,  69,\n",
       "         6,  31,  70,  45,   7,   1,  71,  72,   6,   1,  12,  71,  72,\n",
       "         6,   1,  12,   7,  54,  73,  32,   1,  71,  12,  42, 149,  70,\n",
       "        54,  31,  55, 150,   7,   1,  96,   6,   1,  68,  13,   9,  19,\n",
       "       151,   1, 152, 153, 154, 155,  15,  43,  53, 156,  15,  43,  53,\n",
       "        15, 159,  74, 160,  98,  99,  10, 163,   1, 164,  96,  76,  77,\n",
       "       100,  33,  14, 165,  33,  43,  53,  68,  13, 166, 101,  74,  20,\n",
       "       102,  19,   5,  78,   6,  21,  13, 102,  20, 101,  74, 167,  56,\n",
       "        46,   5,  78,   6,  21, 168, 169,  22,   3, 104,   5, 105,  34,\n",
       "         9,   3,  47,   5, 106,   6,   1,  34,  16,  35,  17,  56, 170,\n",
       "        32, 107,  22,   2, 104,   5,  34,   2,  10, 171, 172,  20,  57,\n",
       "         1, 106,  10,   3, 173,   1, 108, 174,  21,  58, 176,   4,  79,\n",
       "        45,  59,  45, 109, 177,   6,   1,  12,  77, 178,  58,  60, 179,\n",
       "       180, 181, 182, 183, 184, 185,   7,   1, 109,  72,   6,  16,   1,\n",
       "       105,  17,  16,   1,  17, 187, 110, 188,   7,   1, 189, 190,  59,\n",
       "         1, 191, 192,   1,  17,   9,   3,  19, 194,  93,   1, 195, 108,\n",
       "         9,  47,   5,  61,  62,  35, 196, 197, 198,  36,  34,  49,   2,\n",
       "       199,   5,  36, 200,   3,  28,  21,  12,  22,   3,  23,  62,   5,\n",
       "       201, 202, 203, 112,  23,  80,  10,   3,  37,   1,  13,  14,   1,\n",
       "       113,   2,  10,  37,   1,  13, 114,   3,  37,  24,  14,   1, 113,\n",
       "         9,   3,  19,  38,   4,  79,  16,   1,  50, 204,  49,   2,  26,\n",
       "         1,  25,   2,   9,  19,  38,   4,  79,  16,   1,  50, 205,  14,\n",
       "        39,  81,  28,   3,   8,   4, 115,   1,  82,  83,   8,   4, 115,\n",
       "         1,  82,  27,   9, 206,   2, 116,   1, 207,   2,   8,   4, 208,\n",
       "       209,   1,  82, 210,  27,  28,  75,  99,  14,   1,  13,  10,  27,\n",
       "        63,   2,  10,  61,  64,  65,  84,  33, 117,  60, 118, 119, 211,\n",
       "        28,  27,   8,   4,  26,  35,  69,  39, 212, 213,  66,  40,   8,\n",
       "         4,  26,  16,  39,  44,  69,  18,  35,  40,  76,   7,   1, 120,\n",
       "        15,  35,  40,  77, 100,  33,  14,  27,  24,   1, 121, 214,   6,\n",
       "        31,  55,  16,  65,  49, 103,   1,  13,  94,   5,  44,  29,  95,\n",
       "         7,   1,  85,   6,  44,  29, 122,  22,   3,  24,  18,  86,  87,\n",
       "       216,  28,   3,   8,   4,  24, 123,  18, 217,  51,  66,  86,  51,\n",
       "        51,   1,  85,  88,   7, 218, 124,  62,   1, 125,   2,  26,   1,\n",
       "        25,  32, 219,   2,  10,  37, 114,   2,  83,   8,   4, 220,  15,\n",
       "         5,  45,   4, 221,  22,   3,  83, 222,   1,  12,  89, 223,   1,\n",
       "        25,  11,   7,   1, 126, 224,  47,   5,  54, 124, 126,  88,  62,\n",
       "         1, 125,   2,   8, 225,   1,  25,  23, 127, 128, 129,  20,   3,\n",
       "        23,  46,  38,   4,  26,   1,  25,  18,   1,  40,  11, 130,   3,\n",
       "        28,   8,   4,  63,  64,  59, 131,   5,  61,  65,  84,  33, 117,\n",
       "        60, 118, 132, 227,  10,   3, 228,   1,  36, 133,  18,   1,  40,\n",
       "       229,   7, 230,  32, 134, 231,   2,  10,  57,   1, 133,  90,  39,\n",
       "        29,   7, 232, 122,   2,   8, 233,  29,  18,  91,  87,   2,   9,\n",
       "        19,  38,   4,  57,  16,   1,  50,  36,  17,  14,   1,  88,   6,\n",
       "        91,  87,   4, 234,  51, 135,  89,  91,  51,   2,   9,   8,   4,\n",
       "       235,   1,  29, 123,  49,   1,  12,   7, 236,  20,   2,   8,  36,\n",
       "        64,  31,  55,  66,  54, 237,   6,  31,  70,   2,   9,  19,  38,\n",
       "         4,  57,   1,  36,  17,  90, 238, 239, 241,  85,   7,  46, 136,\n",
       "         6,   1, 243,  12,  42,  10,   3, 244, 245,  14,  75,   6,   5,\n",
       "        67,  89,   1,  34,   9,   8,   4, 246,   5,  58, 137, 136,  14,\n",
       "        39,  81,  20,  35, 247,   9,  63,   2,  15,   5, 138,  18, 138,\n",
       "        67, 139,  34,   3,  37,   1,  13,  80,  10,   3, 248, 249,  50,\n",
       "       140, 250, 141, 251,  50, 140,  67,  14,   1,  67, 139,  58, 137,\n",
       "        23, 127, 128, 129,  20,   3,  23,  46,  38,   4,  26,   1,  25,\n",
       "        18,   1,  40,  11, 130,   3,  28,   8,   4,  63,  64,  59, 131,\n",
       "         5,  61,  65,  84,  33, 252,  60,  20,  41,  52, 119, 132,   7,\n",
       "         1, 253,   4,  47,   1, 142,  56, 110, 255,   8,   4,  24,   1,\n",
       "       121,  42,   6,  31,  55,   8,   4, 256,  16,   1,  12, 257,  23,\n",
       "       258,  80, 111,  10,   3,  24,  25,   6,   1, 143,  73,   9,  47,\n",
       "         5, 120,   4,  24,  42,   6, 143,  73,  14,  39,  81,  49,   2,\n",
       "        24,  15,   1, 259,  45,   8, 134,  92,  41,  52,   7,   5,  78,\n",
       "         6,  21,  13,  11, 144, 145,  41,  52,   7,   4, 260,  92,  41,\n",
       "        52, 261,  46, 262,  41, 146,  32,  27, 263, 146,   2, 264, 265,\n",
       "        66,  15,  92, 266, 107, 267, 268,  32,  22,   2,  56, 269,   4,\n",
       "        37,  21,  12, 141,  15, 270,   3,  23, 271,   2,   9,  19, 272,\n",
       "        76,   7,  11, 144, 145,  41,  52, 274,  17, 276,  17, 116, 277,\n",
       "       278,  18, 280, 281, 282])"
      ]
     },
     "execution_count": 140,
     "metadata": {},
     "output_type": "execute_result"
    }
   ],
   "source": [
    "y.shape\n",
    "y"
   ]
  },
  {
   "cell_type": "code",
   "execution_count": 141,
   "id": "87ec02b3-a19d-42de-a17e-db0573b6cb4f",
   "metadata": {},
   "outputs": [],
   "source": [
    "from tensorflow.keras.utils import to_categorical\n",
    "y=to_categorical(y,num_classes=283)\n",
    "#doubt why 283 instead of 282?"
   ]
  },
  {
   "cell_type": "code",
   "execution_count": 142,
   "id": "35f96c85-2fca-4a93-9103-d2d2efbc91d5",
   "metadata": {},
   "outputs": [
    {
     "data": {
      "text/plain": [
       "(863, 283)"
      ]
     },
     "execution_count": 142,
     "metadata": {},
     "output_type": "execute_result"
    }
   ],
   "source": [
    "y.shape"
   ]
  },
  {
   "cell_type": "code",
   "execution_count": 143,
   "id": "5ef8c875-fb67-4103-aa6a-c0ade2505614",
   "metadata": {},
   "outputs": [],
   "source": [
    "from tensorflow.keras.models import Sequential\n",
    "from tensorflow.keras.layers import Embedding,LSTM,Dense"
   ]
  },
  {
   "cell_type": "code",
   "execution_count": 144,
   "id": "96677e0a-f9af-4af5-a417-d602a05a10e7",
   "metadata": {},
   "outputs": [],
   "source": [
    "#Didn't understand embedding and its parameters\n",
    "model=Sequential()\n",
    "model.add(Embedding(283,100)) # doubt\n",
    "model.add(LSTM(150)) #here 150 is the no of nodes in LSTM layers\n",
    "# model.add(LSTM(150))\n",
    "model.add(Dense(283,activation=\"softmax\"))\n",
    "#Understand the parameters for the above written functions"
   ]
  },
  {
   "cell_type": "code",
   "execution_count": 145,
   "id": "1147011c-b620-44db-84ee-a2b4e65ebd0b",
   "metadata": {},
   "outputs": [],
   "source": [
    "model.compile(loss=\"categorical_crossentropy\",optimizer=\"adam\",metrics=['accuracy'])"
   ]
  },
  {
   "cell_type": "code",
   "execution_count": null,
   "id": "b8aed5bb-e5e6-4a20-b477-dca92061df96",
   "metadata": {},
   "outputs": [],
   "source": [
    "model.summary()\n",
    "# print(tf.__version__)"
   ]
  },
  {
   "cell_type": "code",
   "execution_count": null,
   "id": "7bf85400-5fc8-4289-b871-13b26ce845c6",
   "metadata": {},
   "outputs": [],
   "source": [
    "model.fit(X,y,epochs=100)"
   ]
  },
  {
   "cell_type": "code",
   "execution_count": null,
   "id": "5d169315-0a32-4185-b148-90b040f94e0c",
   "metadata": {},
   "outputs": [],
   "source": [
    "text=\"why\"\n",
    "import numpy as np\n",
    "for i in range(25):\n",
    "    #tokenize\n",
    "    tokenizer_input=tokenizer.texts_to_sequences([text])[0]\n",
    "    #padding\n",
    "    padded_tokenizer_input=pad_sequences([tokenizer_input],maxlen=56,padding=\"pre\")\n",
    "    #predict\n",
    "    pos= np.argmax(model.predict(padded_tokenizer_input))\n",
    "    for word,index in tokenizer.word_index.items():\n",
    "        if(index==pos):\n",
    "            text=text+\" \"+word\n",
    "            print(text)\n",
    "            "
   ]
  },
  {
   "cell_type": "code",
   "execution_count": null,
   "id": "21b75a36-2e17-4a63-b12f-38c82e14bee2",
   "metadata": {},
   "outputs": [],
   "source": []
  }
 ],
 "metadata": {
  "kernelspec": {
   "display_name": "Python 3 (ipykernel)",
   "language": "python",
   "name": "python3"
  },
  "language_info": {
   "codemirror_mode": {
    "name": "ipython",
    "version": 3
   },
   "file_extension": ".py",
   "mimetype": "text/x-python",
   "name": "python",
   "nbconvert_exporter": "python",
   "pygments_lexer": "ipython3",
   "version": "3.11.5"
  }
 },
 "nbformat": 4,
 "nbformat_minor": 5
}
