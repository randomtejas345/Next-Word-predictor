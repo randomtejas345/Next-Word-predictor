{
 "cells": [
  {
   "cell_type": "code",
   "execution_count": 1,
   "id": "397e80bc-eff9-4f29-8e2c-3b99fa8ac7ba",
   "metadata": {},
   "outputs": [],
   "source": [
    "from tensorflow.keras.preprocessing.text import one_hot"
   ]
  },
  {
   "cell_type": "code",
   "execution_count": null,
   "id": "d1a9a1f2-82bf-4825-ac2c-7210278686f9",
   "metadata": {},
   "outputs": [],
   "source": [
    "sentences=[  'the glass of milk',\n",
    "     'the glass of juice',\n",
    "     'the cup of tea',\n",
    "    'I am a good boy',\n",
    "     'I am a good developer',\n",
    "     'understand the meaning of words',\n",
    "     'your videos are good']"
   ]
  },
  {
   "cell_type": "code",
   "execution_count": 3,
   "id": "04186a60-3ece-4142-a53c-93f5d9f767c8",
   "metadata": {},
   "outputs": [
    {
     "data": {
      "text/plain": [
       "['the glass of milk',\n",
       " 'the glass of juice',\n",
       " 'the cup of tea',\n",
       " 'I am a good boy',\n",
       " 'I am a good developer',\n",
       " 'understand the meaning of words',\n",
       " 'your videos are good']"
      ]
     },
     "execution_count": 3,
     "metadata": {},
     "output_type": "execute_result"
    }
   ],
   "source": [
    "sentences"
   ]
  },
  {
   "cell_type": "code",
   "execution_count": 4,
   "id": "9303d8fa-2676-4f5c-824d-066c17371273",
   "metadata": {},
   "outputs": [],
   "source": [
    "voc_size=1000\n",
    "#here I am assuming that total no of unique words are 1000"
   ]
  },
  {
   "cell_type": "markdown",
   "id": "8601c9cf-4fdb-409f-b99e-b4823e910ff2",
   "metadata": {},
   "source": [
    "## One hot Representation"
   ]
  },
  {
   "cell_type": "code",
   "execution_count": 6,
   "id": "76dff42e-8bc7-4b70-9f6e-6a9808a5ec17",
   "metadata": {},
   "outputs": [],
   "source": [
    "# short_sent=\"I am groot\"\n",
    "# one_hot(short_sent,voc_size)\n",
    "one_hot_repr=[one_hot(sentence,voc_size) for sentence in sentences]"
   ]
  },
  {
   "cell_type": "code",
   "execution_count": 7,
   "id": "7e81eb52-dcf6-40e8-acd1-ddf73b524cc7",
   "metadata": {},
   "outputs": [
    {
     "data": {
      "text/plain": [
       "[[126, 429, 787, 940],\n",
       " [126, 429, 787, 794],\n",
       " [126, 152, 787, 627],\n",
       " [261, 468, 496, 833, 107],\n",
       " [261, 468, 496, 833, 969],\n",
       " [243, 126, 906, 787, 45],\n",
       " [145, 247, 20, 833]]"
      ]
     },
     "execution_count": 7,
     "metadata": {},
     "output_type": "execute_result"
    }
   ],
   "source": [
    "one_hot_repr"
   ]
  },
  {
   "cell_type": "markdown",
   "id": "45bfa0a8-bba9-403d-9c65-6d3dfd071191",
   "metadata": {},
   "source": [
    "## Word Embedding Representation"
   ]
  },
  {
   "cell_type": "code",
   "execution_count": 9,
   "id": "4cf9bec5-426f-414d-a3d3-ed4d7656ab0b",
   "metadata": {},
   "outputs": [],
   "source": [
    "from tensorflow.keras.layers import Embedding\n",
    "from tensorflow.keras.models import Sequential\n",
    "from tensorflow.keras.preprocessing.sequence import pad_sequences"
   ]
  },
  {
   "cell_type": "code",
   "execution_count": 10,
   "id": "4cc024d4-3936-40f6-82d7-8e5adec53cdd",
   "metadata": {},
   "outputs": [],
   "source": [
    "import numpy as np"
   ]
  },
  {
   "cell_type": "code",
   "execution_count": 11,
   "id": "78b3f408-f1c3-47a2-aeb8-cfc73e856d25",
   "metadata": {},
   "outputs": [],
   "source": [
    "sent_length=8\n",
    "padded_ohe= pad_sequences(one_hot_repr,padding=\"pre\",maxlen=sent_length)"
   ]
  },
  {
   "cell_type": "code",
   "execution_count": 12,
   "id": "07dd1a44-ecb1-4dde-88da-abe13023f7d5",
   "metadata": {},
   "outputs": [
    {
     "data": {
      "text/plain": [
       "array([[  0,   0,   0,   0, 126, 429, 787, 940],\n",
       "       [  0,   0,   0,   0, 126, 429, 787, 794],\n",
       "       [  0,   0,   0,   0, 126, 152, 787, 627],\n",
       "       [  0,   0,   0, 261, 468, 496, 833, 107],\n",
       "       [  0,   0,   0, 261, 468, 496, 833, 969],\n",
       "       [  0,   0,   0, 243, 126, 906, 787,  45],\n",
       "       [  0,   0,   0,   0, 145, 247,  20, 833]])"
      ]
     },
     "execution_count": 12,
     "metadata": {},
     "output_type": "execute_result"
    }
   ],
   "source": [
    "padded_ohe"
   ]
  },
  {
   "cell_type": "code",
   "execution_count": 13,
   "id": "ef43205b-a26c-4475-a498-5ff1c34e65a3",
   "metadata": {},
   "outputs": [],
   "source": [
    "dim=10 # no of features in embedded representation"
   ]
  },
  {
   "cell_type": "code",
   "execution_count": 17,
   "id": "952bc65f-9039-4ee5-b8e1-5332280b2126",
   "metadata": {},
   "outputs": [],
   "source": [
    "model= Sequential()\n",
    "model.add(Embedding(voc_size,10))\n",
    "model.compile(optimizer=\"adam\",loss=\"categorical_crossentropy\",metrics=[\"accuracy\"])"
   ]
  },
  {
   "cell_type": "code",
   "execution_count": 18,
   "id": "7f1d47f1-eb02-4063-a3a0-c21977ec7e9a",
   "metadata": {},
   "outputs": [
    {
     "data": {
      "text/html": [
       "<pre style=\"white-space:pre;overflow-x:auto;line-height:normal;font-family:Menlo,'DejaVu Sans Mono',consolas,'Courier New',monospace\"><span style=\"font-weight: bold\">Model: \"sequential_3\"</span>\n",
       "</pre>\n"
      ],
      "text/plain": [
       "\u001b[1mModel: \"sequential_3\"\u001b[0m\n"
      ]
     },
     "metadata": {},
     "output_type": "display_data"
    },
    {
     "data": {
      "text/html": [
       "<pre style=\"white-space:pre;overflow-x:auto;line-height:normal;font-family:Menlo,'DejaVu Sans Mono',consolas,'Courier New',monospace\">┏━━━━━━━━━━━━━━━━━━━━━━━━━━━━━━━━━━━━━━┳━━━━━━━━━━━━━━━━━━━━━━━━━━━━━┳━━━━━━━━━━━━━━━━━┓\n",
       "┃<span style=\"font-weight: bold\"> Layer (type)                         </span>┃<span style=\"font-weight: bold\"> Output Shape                </span>┃<span style=\"font-weight: bold\">         Param # </span>┃\n",
       "┡━━━━━━━━━━━━━━━━━━━━━━━━━━━━━━━━━━━━━━╇━━━━━━━━━━━━━━━━━━━━━━━━━━━━━╇━━━━━━━━━━━━━━━━━┩\n",
       "│ embedding_3 (<span style=\"color: #0087ff; text-decoration-color: #0087ff\">Embedding</span>)              │ ?                           │     <span style=\"color: #00af00; text-decoration-color: #00af00\">0</span> (unbuilt) │\n",
       "└──────────────────────────────────────┴─────────────────────────────┴─────────────────┘\n",
       "</pre>\n"
      ],
      "text/plain": [
       "┏━━━━━━━━━━━━━━━━━━━━━━━━━━━━━━━━━━━━━━┳━━━━━━━━━━━━━━━━━━━━━━━━━━━━━┳━━━━━━━━━━━━━━━━━┓\n",
       "┃\u001b[1m \u001b[0m\u001b[1mLayer (type)                        \u001b[0m\u001b[1m \u001b[0m┃\u001b[1m \u001b[0m\u001b[1mOutput Shape               \u001b[0m\u001b[1m \u001b[0m┃\u001b[1m \u001b[0m\u001b[1m        Param #\u001b[0m\u001b[1m \u001b[0m┃\n",
       "┡━━━━━━━━━━━━━━━━━━━━━━━━━━━━━━━━━━━━━━╇━━━━━━━━━━━━━━━━━━━━━━━━━━━━━╇━━━━━━━━━━━━━━━━━┩\n",
       "│ embedding_3 (\u001b[38;5;33mEmbedding\u001b[0m)              │ ?                           │     \u001b[38;5;34m0\u001b[0m (unbuilt) │\n",
       "└──────────────────────────────────────┴─────────────────────────────┴─────────────────┘\n"
      ]
     },
     "metadata": {},
     "output_type": "display_data"
    },
    {
     "data": {
      "text/html": [
       "<pre style=\"white-space:pre;overflow-x:auto;line-height:normal;font-family:Menlo,'DejaVu Sans Mono',consolas,'Courier New',monospace\"><span style=\"font-weight: bold\"> Total params: </span><span style=\"color: #00af00; text-decoration-color: #00af00\">0</span> (0.00 B)\n",
       "</pre>\n"
      ],
      "text/plain": [
       "\u001b[1m Total params: \u001b[0m\u001b[38;5;34m0\u001b[0m (0.00 B)\n"
      ]
     },
     "metadata": {},
     "output_type": "display_data"
    },
    {
     "data": {
      "text/html": [
       "<pre style=\"white-space:pre;overflow-x:auto;line-height:normal;font-family:Menlo,'DejaVu Sans Mono',consolas,'Courier New',monospace\"><span style=\"font-weight: bold\"> Trainable params: </span><span style=\"color: #00af00; text-decoration-color: #00af00\">0</span> (0.00 B)\n",
       "</pre>\n"
      ],
      "text/plain": [
       "\u001b[1m Trainable params: \u001b[0m\u001b[38;5;34m0\u001b[0m (0.00 B)\n"
      ]
     },
     "metadata": {},
     "output_type": "display_data"
    },
    {
     "data": {
      "text/html": [
       "<pre style=\"white-space:pre;overflow-x:auto;line-height:normal;font-family:Menlo,'DejaVu Sans Mono',consolas,'Courier New',monospace\"><span style=\"font-weight: bold\"> Non-trainable params: </span><span style=\"color: #00af00; text-decoration-color: #00af00\">0</span> (0.00 B)\n",
       "</pre>\n"
      ],
      "text/plain": [
       "\u001b[1m Non-trainable params: \u001b[0m\u001b[38;5;34m0\u001b[0m (0.00 B)\n"
      ]
     },
     "metadata": {},
     "output_type": "display_data"
    }
   ],
   "source": [
    "model.summary()"
   ]
  },
  {
   "cell_type": "code",
   "execution_count": 25,
   "id": "f6650ba0-d680-42df-94b6-bfe0608de231",
   "metadata": {},
   "outputs": [
    {
     "name": "stdout",
     "output_type": "stream",
     "text": [
      "\u001b[1m1/1\u001b[0m \u001b[32m━━━━━━━━━━━━━━━━━━━━\u001b[0m\u001b[37m\u001b[0m \u001b[1m0s\u001b[0m 26ms/step\n"
     ]
    }
   ],
   "source": [
    "emededding_repr=model.predict(padded_ohe)\n",
    "# model.predict(padded_ohe).shape"
   ]
  },
  {
   "cell_type": "code",
   "execution_count": 31,
   "id": "761173f4-89a6-4a61-87bb-11dd2d396330",
   "metadata": {},
   "outputs": [
    {
     "data": {
      "text/plain": [
       "array([-0.03399139,  0.04071449, -0.00616032,  0.04589978, -0.01906095,\n",
       "        0.013835  ,  0.01518669, -0.02894573, -0.03728624, -0.02582772],\n",
       "      dtype=float32)"
      ]
     },
     "execution_count": 31,
     "metadata": {},
     "output_type": "execute_result"
    }
   ],
   "source": [
    "emededding_repr[0][0]\n",
    "#first sent first word embedded representation"
   ]
  },
  {
   "cell_type": "code",
   "execution_count": null,
   "id": "fc69235c-2e70-4e32-882b-668ab9068b2f",
   "metadata": {},
   "outputs": [],
   "source": []
  }
 ],
 "metadata": {
  "kernelspec": {
   "display_name": "Python 3 (ipykernel)",
   "language": "python",
   "name": "python3"
  },
  "language_info": {
   "codemirror_mode": {
    "name": "ipython",
    "version": 3
   },
   "file_extension": ".py",
   "mimetype": "text/x-python",
   "name": "python",
   "nbconvert_exporter": "python",
   "pygments_lexer": "ipython3",
   "version": "3.11.5"
  }
 },
 "nbformat": 4,
 "nbformat_minor": 5
}
